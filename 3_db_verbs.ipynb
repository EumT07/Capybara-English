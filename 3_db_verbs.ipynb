{
 "cells": [
  {
   "cell_type": "markdown",
   "metadata": {},
   "source": [
    "# Creating DB JSON"
   ]
  },
  {
   "cell_type": "markdown",
   "metadata": {},
   "source": [
    "In this section I just needed to get all data from excel and convert this into a JSON file, and then could be able to insert this data into a Postgress data base, in order to build API and be able to get all verbs with any endpoint."
   ]
  },
  {
   "cell_type": "code",
   "execution_count": 1,
   "metadata": {},
   "outputs": [],
   "source": [
    "import pandas as pd\n",
    "import json\n",
    "import os"
   ]
  },
  {
   "cell_type": "markdown",
   "metadata": {},
   "source": [
    "* Getting Verbs from excel"
   ]
  },
  {
   "cell_type": "code",
   "execution_count": null,
   "metadata": {},
   "outputs": [],
   "source": [
    "df = pd.read_excel(\"./Verbos.xlsx\", sheet_name=0)\n",
    "df.head(1)"
   ]
  },
  {
   "cell_type": "markdown",
   "metadata": {},
   "source": [
    "* Getting Verbs structure"
   ]
  },
  {
   "cell_type": "code",
   "execution_count": 7,
   "metadata": {},
   "outputs": [],
   "source": [
    "# It could be Verbs table\n",
    "id = list(df[\"id\"])\n",
    "infinitive = list(df[\"infinitive\"])\n",
    "present = list(df[\"present\"])\n",
    "past = list(df[\"past\"])\n",
    "past_participle = list(df[\"past_participle\"])\n",
    "present_participle = list(df[\"present_participle\"])\n",
    "definition = list(df[\"definition\"])\n",
    "type_v = list(df[\"type\"])\n",
    "\n",
    "verbs = []\n",
    "\n",
    "for index in range(0,369):\n",
    "    verbs.append({\n",
    "        \"id\" : id[index].strip(),\n",
    "        \"infinitive\": infinitive[index].strip(),\n",
    "        \"present\": present[index].strip(),\n",
    "        \"past\": past[index].strip(),\n",
    "        \"past_participle\": past_participle[index].strip(),\n",
    "        \"present_participle\": present_participle[index].strip(),\n",
    "        \"definition\": definition[index].strip(),\n",
    "        \"type\": type_v[index].strip()\n",
    "    })\n"
   ]
  },
  {
   "cell_type": "markdown",
   "metadata": {},
   "source": [
    "* Getting Regular Verbs structure"
   ]
  },
  {
   "cell_type": "code",
   "execution_count": null,
   "metadata": {},
   "outputs": [],
   "source": [
    "rv = pd.read_excel(\"./Verbos.xlsx\", sheet_name=1)\n",
    "rv.head(1)"
   ]
  },
  {
   "cell_type": "code",
   "execution_count": 9,
   "metadata": {},
   "outputs": [],
   "source": [
    "rv_id = list(rv[\"id\"])\n",
    "rv_verb_id = list(rv[\"verb_id\"])\n",
    "rv_past_sound = list(rv[\"past_sound\"])\n",
    "rv_ipa_regular_verbs_id = list(rv[\"ipa_regular_verbs_id\"])\n",
    "\n",
    "regular_verbs = []\n",
    "\n",
    "for index in range(0,266):\n",
    "    regular_verbs.append({\n",
    "        \"id\": rv_id[index].strip(),\n",
    "        \"verb_id\": rv_verb_id[index].strip(),\n",
    "        \"ipa_regular_verbs_id\": rv_ipa_regular_verbs_id[index].strip(),\n",
    "        \"past_sound\": rv_past_sound[index].strip()\n",
    "    })"
   ]
  },
  {
   "cell_type": "markdown",
   "metadata": {},
   "source": [
    "* Getting Irregular Verbs structure"
   ]
  },
  {
   "cell_type": "code",
   "execution_count": null,
   "metadata": {},
   "outputs": [],
   "source": [
    "ir_verbs = pd.read_excel(\"./Verbos.xlsx\", sheet_name=2)\n",
    "ir_verbs.head(1)"
   ]
  },
  {
   "cell_type": "code",
   "execution_count": 11,
   "metadata": {},
   "outputs": [],
   "source": [
    "ir_id = list(ir_verbs[\"id\"])\n",
    "ir_verb_id = list(ir_verbs[\"verb_id\"])\n",
    "ir_ipa_id = list(ir_verbs[\"ipa_irregular_verbs_id\"])\n",
    "\n",
    "irregular_verbs = []\n",
    "\n",
    "for index in range(0,103):\n",
    "    irregular_verbs.append({\n",
    "        \"id\": ir_id[index].strip(),\n",
    "        \"verb_id\": ir_verb_id[index].strip(),\n",
    "        \"ipa_irregular_verbs_id\": ir_ipa_id[index].strip()\n",
    "    })"
   ]
  },
  {
   "cell_type": "markdown",
   "metadata": {},
   "source": [
    "* Getting regular verbs IPA structure"
   ]
  },
  {
   "cell_type": "code",
   "execution_count": null,
   "metadata": {},
   "outputs": [],
   "source": [
    "rv_ipa = pd.read_excel(\"./Verbos.xlsx\", sheet_name=3)\n",
    "rv_ipa.head(1)"
   ]
  },
  {
   "cell_type": "code",
   "execution_count": 13,
   "metadata": {},
   "outputs": [],
   "source": [
    "ipa_r_id = list(rv_ipa[\"id\"])\n",
    "ipa_r_verb = list(rv_ipa[\"verb_id\"])\n",
    "ipa_r_ipa_present_uk = list(rv_ipa[\"ipa_present_uk\"])\n",
    "ipa_r_ipa_present_us = list(rv_ipa[\"ipa_present_us\"])\n",
    "ipa_r_ipa_past_uk = list(rv_ipa[\"ipa_past_uk\"])\n",
    "ipa_r_ipa_past_us = list(rv_ipa[\"ipa_past_us\"])\n",
    "ipa_r_ipa_past_participle_uk = list(rv_ipa[\"ipa_past_participle_uk\"])\n",
    "ipa_r_ipa_past_participle_us = list(rv_ipa[\"ipa_past_participle_us\"])\n",
    "ipa_r_ipa_present_participle_uk = list(rv_ipa[\"ipa_present_participle_uk\"])\n",
    "ipa_r_ipa_present_participle_us = list(rv_ipa[\"ipa_present_participle_us\"])\n",
    "\n",
    "ipa_regular_verbs = []\n",
    "\n",
    "for index in range(0,266):\n",
    "    ipa_regular_verbs.append({\n",
    "        \"id\": ipa_r_id[index].strip(),\n",
    "        \"verb_id\": ipa_r_verb[index].strip(),\n",
    "        \"ipa_present_uk\":ipa_r_ipa_present_uk[index].strip(),\n",
    "        \"ipa_present_us\":ipa_r_ipa_present_us[index].strip(),\n",
    "        \"ipa_past_uk\":ipa_r_ipa_past_uk[index].strip(),\n",
    "        \"ipa_past_us\":ipa_r_ipa_past_us[index].strip(),\n",
    "        \"ipa_past_participle_uk\":ipa_r_ipa_past_participle_uk[index].strip(),\n",
    "        \"ipa_past_participle_us\":ipa_r_ipa_past_participle_us[index].strip(),\n",
    "        \"ipa_present_participle_uk\":ipa_r_ipa_present_participle_uk[index].strip(),\n",
    "        \"ipa_present_participle_us\":ipa_r_ipa_present_participle_us[index].strip()\n",
    "    })"
   ]
  },
  {
   "cell_type": "markdown",
   "metadata": {},
   "source": [
    "* Getting irregular verbs IPA structure"
   ]
  },
  {
   "cell_type": "code",
   "execution_count": null,
   "metadata": {},
   "outputs": [],
   "source": [
    "iv_ipa = pd.read_excel(\"./Verbos.xlsx\", sheet_name=4)\n",
    "iv_ipa.head(1)"
   ]
  },
  {
   "cell_type": "code",
   "execution_count": 15,
   "metadata": {},
   "outputs": [],
   "source": [
    "ipa_i_id = list(iv_ipa[\"id\"])\n",
    "ipa_i_verb = list(iv_ipa[\"verb_id\"])\n",
    "ipa_i_ipa_present_uk = list(iv_ipa[\"ipa_present_uk\"])\n",
    "ipa_i_ipa_present_us = list(iv_ipa[\"ipa_present_us\"])\n",
    "ipa_i_ipa_past_uk = list(iv_ipa[\"ipa_past_uk\"])\n",
    "ipa_i_ipa_past_us = list(iv_ipa[\"ipa_past_us\"])\n",
    "ipa_i_ipa_past_participle_uk = list(iv_ipa[\"ipa_past_participle_uk\"])\n",
    "ipa_i_ipa_past_participle_us = list(iv_ipa[\"ipa_past_participle_us\"])\n",
    "ipa_i_ipa_present_participle_uk = list(iv_ipa[\"ipa_present_participle_uk\"])\n",
    "ipa_i_ipa_present_participle_us = list(iv_ipa[\"ipa_present_participle_us\"])\n",
    "\n",
    "ipa_irregular_verbs = []\n",
    "\n",
    "for index in range(0,103):\n",
    "    ipa_irregular_verbs.append({\n",
    "        \"id\": ipa_i_id[index].strip(),\n",
    "        \"verb_id\": ipa_i_verb[index].strip(),\n",
    "        \"ipa_present_uk\":ipa_i_ipa_present_uk[index].strip(),\n",
    "        \"ipa_present_us\":ipa_i_ipa_present_us[index].strip(),\n",
    "        \"ipa_past_uk\":ipa_i_ipa_past_uk[index].strip(),\n",
    "        \"ipa_past_us\":ipa_i_ipa_past_us[index].strip(),\n",
    "        \"ipa_past_participle_uk\":ipa_i_ipa_past_participle_uk[index].strip(),\n",
    "        \"ipa_past_participle_us\":ipa_i_ipa_past_participle_us[index].strip(),\n",
    "        \"ipa_present_participle_uk\":ipa_i_ipa_present_participle_uk[index].strip(),\n",
    "        \"ipa_present_participle_us\":ipa_i_ipa_present_participle_us[index].strip()\n",
    "    })"
   ]
  },
  {
   "cell_type": "markdown",
   "metadata": {},
   "source": [
    "* getting meaning"
   ]
  },
  {
   "cell_type": "code",
   "execution_count": null,
   "metadata": {},
   "outputs": [],
   "source": [
    "df = pd.read_excel(\"./Verbos.xlsx\", sheet_name=5)\n",
    "df.head(1)"
   ]
  },
  {
   "cell_type": "markdown",
   "metadata": {},
   "source": [
    "* meaning model"
   ]
  },
  {
   "cell_type": "code",
   "execution_count": 5,
   "metadata": {},
   "outputs": [],
   "source": [
    "id = list(df[\"id\"])\n",
    "verb_id = list(df[\"verb_id\"])\n",
    "spanish = list(df[\"spanish\"])\n",
    "portuguese = list(df[\"portuguese\"])\n",
    "italian = list(df[\"italian\"])\n",
    "french = list(df[\"french\"])\n",
    "german = list(df[\"german\"])\n",
    "\n",
    "\n",
    "meaning = []\n",
    "\n",
    "for i in range(0,369):\n",
    "    meaning.append({\n",
    "        \"id\": id[i].strip(),\n",
    "        \"verb_id\": verb_id[i].strip(),\n",
    "        \"spanish\": spanish[i].strip(),\n",
    "        \"portuguese\":portuguese[i].strip(),\n",
    "        \"italian\": italian[i].strip(),\n",
    "        \"french\": french[i].strip(),\n",
    "        \"german\": german[i].strip()\n",
    "    })"
   ]
  },
  {
   "cell_type": "markdown",
   "metadata": {},
   "source": [
    "## Creating JSON"
   ]
  },
  {
   "cell_type": "code",
   "execution_count": 6,
   "metadata": {},
   "outputs": [],
   "source": [
    "def verbs_JSON(file, items):\n",
    "    #root\n",
    "    root = None\n",
    "\n",
    "    #Make Folder : JSON DB\n",
    "    folder_path = \"./JSON-DB\"\n",
    "    os.makedirs(folder_path, exist_ok=True)\n",
    "\n",
    "    #Making root\n",
    "    root = os.path.join(folder_path,f\"{file}.json\")\n",
    "\n",
    "    with open(root, \"w\") as f:\n",
    "        json.dump([],f)\n",
    "\n",
    "    def insert_JSON(data, fileName = root):\n",
    "        with open(fileName, \"r+\", encoding= \"utf-8\") as file:\n",
    "            file_data = json.load(file)\n",
    "            file_data.append(data)\n",
    "            file.seek(0)\n",
    "            json.dump(file_data, file, indent= 4)\n",
    "\n",
    "    for item in items:\n",
    "        insert_JSON(item)"
   ]
  },
  {
   "cell_type": "markdown",
   "metadata": {},
   "source": [
    "### Calling verbs_JSON() Function"
   ]
  },
  {
   "cell_type": "code",
   "execution_count": null,
   "metadata": {},
   "outputs": [],
   "source": [
    "verbs_JSON(\"verbs\",verbs)\n",
    "verbs_JSON(\"regularVerbs\",regular_verbs)\n",
    "verbs_JSON(\"irregularVerbs\",irregular_verbs)\n",
    "verbs_JSON(\"ipaRegularVerbs\",ipa_regular_verbs)\n",
    "verbs_JSON(\"ipaIrregularVerbs\",ipa_irregular_verbs)\n",
    "verbs_JSON(\"meaning\",meaning)"
   ]
  }
 ],
 "metadata": {
  "kernelspec": {
   "display_name": "verbsenv",
   "language": "python",
   "name": "python3"
  },
  "language_info": {
   "codemirror_mode": {
    "name": "ipython",
    "version": 3
   },
   "file_extension": ".py",
   "mimetype": "text/x-python",
   "name": "python",
   "nbconvert_exporter": "python",
   "pygments_lexer": "ipython3",
   "version": "3.12.5"
  }
 },
 "nbformat": 4,
 "nbformat_minor": 2
}
