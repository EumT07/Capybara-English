{
 "cells": [
  {
   "cell_type": "markdown",
   "metadata": {},
   "source": [
    "### Excel irregular and regular verbs\n",
    "\n",
    "Once the IPA of each verb was obtained, I decided to insert the obtained data into an excel sheet in order to save it."
   ]
  },
  {
   "cell_type": "code",
   "execution_count": null,
   "metadata": {},
   "outputs": [],
   "source": [
    "import pandas as pd\n",
    "import json"
   ]
  },
  {
   "cell_type": "code",
   "execution_count": null,
   "metadata": {},
   "outputs": [],
   "source": [
    "df = pd.read_excel(\"./Verbos.xlsx\", sheet_name=0)\n"
   ]
  },
  {
   "cell_type": "markdown",
   "metadata": {},
   "source": [
    "### Regular Verbs"
   ]
  },
  {
   "cell_type": "code",
   "execution_count": 8,
   "metadata": {},
   "outputs": [],
   "source": [
    "regular_verbs_present = df[df[\"type\"] == \"REGULAR\"][\"present\"]\n",
    "regular_verbs_past = df[df[\"type\"] == \"REGULAR\"][\"past\"]\n",
    "regular_verbs_present_p = df[df[\"type\"] == \"REGULAR\"][\"present_participle\"]\n",
    "\n",
    "# Creating List\n",
    "r_verbs_list_present = list(regular_verbs_present)\n",
    "r_verbs_list_past = list(regular_verbs_past)\n",
    "r_verbs_list_present_p = list(regular_verbs_present_p)"
   ]
  },
  {
   "cell_type": "markdown",
   "metadata": {},
   "source": [
    "### Irregular Verbs"
   ]
  },
  {
   "cell_type": "code",
   "execution_count": null,
   "metadata": {},
   "outputs": [],
   "source": [
    "infinitive_ir_verbs_present = df[df[\"Type\"] == \"IRREGULAR\"][\"infinitive\"]\n",
    "irregular_verbs_present = df[df[\"Type\"] == \"IRREGULAR\"][\"present\"]\n",
    "irregular_verbs_past = df[df[\"Type\"] == \"IRREGULAR\"][\"past\"]\n",
    "irregular_verbs_past_p = df[df[\"Type\"] == \"IRREGULAR\"][\"past_participle\"]\n",
    "irregular_verbs_present_p = df[df[\"Type\"] == \"IRREGULAR\"][\"present_participle\"]\n",
    "\n",
    "# Creating List\n",
    "infinitive_ir_verbs_list = list(infinitive_ir_verbs_present)\n",
    "ir_verbs_list_present = list(irregular_verbs_present)\n",
    "ir_verbs_list_past = list(irregular_verbs_past)\n",
    "ir_verbs_list_past_p = list(irregular_verbs_past_p)\n",
    "ir_verbs_list_present_p = list(irregular_verbs_present_p)"
   ]
  },
  {
   "cell_type": "code",
   "execution_count": null,
   "metadata": {},
   "outputs": [],
   "source": [
    "print(f\"\"\"\n",
    "=== Total Verbs ===\n",
    "Regular Verbs: {len(r_verbs_list_past)}\n",
    "Irregular Verbs: {len(ir_verbs_list_present)}\n",
    "\"\"\")"
   ]
  },
  {
   "cell_type": "markdown",
   "metadata": {},
   "source": [
    "## Reading regular verbs JSON"
   ]
  },
  {
   "cell_type": "markdown",
   "metadata": {},
   "source": [
    "* Present"
   ]
  },
  {
   "cell_type": "code",
   "execution_count": null,
   "metadata": {},
   "outputs": [],
   "source": [
    "json_RV_present = None\n",
    "root = \"IPA\\regular\\Present\\present.json\"\n",
    "\n",
    "with open(root, 'r', encoding='utf-8') as file:\n",
    "    json_RV_present = json.load(file)\n",
    "\n",
    "rv_present_uk = []\n",
    "rv_present_us = []\n",
    "\n",
    "for index, ipa in enumerate(json_RV_present):\n",
    "    rv_present_uk.append(ipa[r_verbs_list_present[index]][\"UK\"][0])\n",
    "    rv_present_us.append(ipa[r_verbs_list_present[index]][\"US\"][0])"
   ]
  },
  {
   "cell_type": "markdown",
   "metadata": {},
   "source": [
    "* Past"
   ]
  },
  {
   "cell_type": "code",
   "execution_count": null,
   "metadata": {},
   "outputs": [],
   "source": [
    "json_RV_past = None\n",
    "root = \"IPA\\regular\\Past\\past.json\"\n",
    "\n",
    "with open(root, 'r', encoding='utf-8') as file:\n",
    "    json_RV_past = json.load(file)\n",
    "\n",
    "rv_past_uk = []\n",
    "rv_past_us = []\n",
    "\n",
    "for index, ipa in enumerate(json_RV_past):\n",
    "    try:\n",
    "        rv_past_uk.append(ipa[r_verbs_list_past[index]][\"UK\"][0])\n",
    "        rv_past_us.append(ipa[r_verbs_list_past[index]][\"US\"][0])\n",
    "    except Exception as e:\n",
    "        print(index)\n",
    "        print(r_verbs_list_past[index])\n",
    "        print(type(e).__name__)"
   ]
  },
  {
   "cell_type": "markdown",
   "metadata": {},
   "source": [
    "* Past Participle"
   ]
  },
  {
   "cell_type": "code",
   "execution_count": null,
   "metadata": {},
   "outputs": [],
   "source": [
    "json_RV_past_participle = None\n",
    "root = \"IPA\\regular\\Past Participle\\past_participle.json\"\n",
    "\n",
    "with open(root, 'r', encoding='utf-8') as file:\n",
    "    json_RV_past_participle = json.load(file)\n",
    "\n",
    "rv_past_participle_uk = []\n",
    "rv_past_participle_us = []\n",
    "\n",
    "for index,ipa in enumerate(json_RV_past_participle):\n",
    "    try:\n",
    "        rv_past_participle_uk.append(ipa[r_verbs_list_past[index]][\"UK\"][0])\n",
    "        rv_past_participle_us.append(ipa[r_verbs_list_past[index]][\"US\"][0])\n",
    "    except Exception as e:\n",
    "        print(index)\n",
    "        print(r_verbs_list_past[index])\n",
    "        print(type(e).__name__)"
   ]
  },
  {
   "cell_type": "markdown",
   "metadata": {},
   "source": [
    "* Present Participle"
   ]
  },
  {
   "cell_type": "code",
   "execution_count": null,
   "metadata": {},
   "outputs": [],
   "source": [
    "json_RV_present_participle = None\n",
    "root = \"IPA\\regular\\Present Participle\\present_participle.json\"\n",
    "\n",
    "with open(root, 'r', encoding='utf-8') as file:\n",
    "    json_RV_present_participle = json.load(file)\n",
    "\n",
    "rv_present_participle_uk = []\n",
    "rv_present_participle_us = []\n",
    "\n",
    "for index,ipa in enumerate(json_RV_present_participle):\n",
    "    try:\n",
    "        rv_present_participle_uk.append(ipa[r_verbs_list_present_p[index]][\"UK\"][0])\n",
    "        rv_present_participle_us.append(ipa[r_verbs_list_present_p[index]][\"US\"][0])\n",
    "    except Exception as e:\n",
    "        print(index)\n",
    "        print(r_verbs_list_present_p[index])\n",
    "        print(type(e).__name__)"
   ]
  },
  {
   "cell_type": "markdown",
   "metadata": {},
   "source": [
    "## Reading irregular verbs JSON"
   ]
  },
  {
   "cell_type": "markdown",
   "metadata": {},
   "source": [
    "* Present"
   ]
  },
  {
   "cell_type": "code",
   "execution_count": null,
   "metadata": {},
   "outputs": [],
   "source": [
    "json_IR_present = None\n",
    "root = \"IPA\\irregular\\Present\\present.json\"\n",
    "\n",
    "with open(root, \"r\", encoding=\"utf-8\") as file:\n",
    "    json_IR_present = json.load(file)\n",
    "\n",
    "ir_present_uk = []\n",
    "ir_present_us = []\n",
    "verbs_list = []\n",
    "\n",
    "for verb in infinitive_ir_verbs_list:\n",
    "    verbs_list.append(verb[3:].strip())\n",
    "\n",
    "for index, ipa in enumerate(json_IR_present):\n",
    "    if(type(ipa[verbs_list[index]]) is list):\n",
    "        continue\n",
    "    ir_present_uk.append(ipa[verbs_list[index]][\"UK\"][0])\n",
    "    ir_present_us.append(ipa[verbs_list[index]][\"US\"][0])"
   ]
  },
  {
   "cell_type": "markdown",
   "metadata": {},
   "source": [
    "* Past"
   ]
  },
  {
   "cell_type": "code",
   "execution_count": null,
   "metadata": {},
   "outputs": [],
   "source": [
    "json_IR_past = None\n",
    "root = \"IPA\\irregular\\Past\\past.json\"\n",
    "\n",
    "with open(root, \"r\", encoding=\"utf-8\") as file:\n",
    "    json_IR_past = json.load(file)\n",
    "\n",
    "ir_past_uk = []\n",
    "ir_past_us = []\n",
    "\n",
    "for index, ipa in enumerate(json_IR_past):\n",
    "    try:\n",
    "        if(type(ipa[ir_verbs_list_past[index]]) is list):\n",
    "            continue\n",
    "        ir_past_uk.append(ipa[ir_verbs_list_past[index]][\"UK\"][0])\n",
    "        ir_past_us.append(ipa[ir_verbs_list_past[index]][\"US\"][0])\n",
    "    except Exception as e:    \n",
    "        print(ir_verbs_list_past[index])\n",
    "        print(type(e).__name__)"
   ]
  },
  {
   "cell_type": "markdown",
   "metadata": {},
   "source": [
    "* Past Participle"
   ]
  },
  {
   "cell_type": "code",
   "execution_count": null,
   "metadata": {},
   "outputs": [],
   "source": [
    "json_IR_past_participle = None\n",
    "root = \"IPA\\irregular\\Past Participle\\past_participle.json\"\n",
    "\n",
    "with open(root, \"r\", encoding=\"utf-8\") as file:\n",
    "    json_IR_past_participle = json.load(file)\n",
    "\n",
    "ir_past_participle_uk = []\n",
    "ir_past_participle_us = []\n",
    "\n",
    "\n",
    "for index, ipa in enumerate(json_IR_past_participle):\n",
    "    try:\n",
    "        ir_past_participle_uk.append(ipa[ir_verbs_list_past_p[index]][\"UK\"][0])\n",
    "        ir_past_participle_us.append(ipa[ir_verbs_list_past_p[index]][\"US\"][0])\n",
    "    except Exception as e:\n",
    "        print(index)\n",
    "        print(ir_verbs_list_past_p[index])\n",
    "        print(type(e).__name__)"
   ]
  },
  {
   "cell_type": "markdown",
   "metadata": {},
   "source": [
    "* Present Participle"
   ]
  },
  {
   "cell_type": "code",
   "execution_count": null,
   "metadata": {},
   "outputs": [],
   "source": [
    "json_IR_present_p = None\n",
    "root = \"IPA\\irregular\\Present Participle\\present_participle.json\"\n",
    "\n",
    "with open(root,\"r\", encoding=\"utf-8\") as file:\n",
    "    json_IR_present_p = json.load(file)\n",
    "\n",
    "ir_present_participle_uk = []\n",
    "ir_present_participle_us = []\n",
    "\n",
    "for index, ipa in enumerate(json_IR_present_p):\n",
    "    try:\n",
    "        ir_present_participle_uk.append(ipa[ir_verbs_list_present_p[index]][\"UK\"][0])\n",
    "        ir_present_participle_us.append(ipa[ir_verbs_list_present_p[index]][\"US\"][0])\n",
    "    except Exception as e:\n",
    "        print(index)\n",
    "        print(ir_verbs_list_present_p[index])\n",
    "        print(type(e).__name__)"
   ]
  },
  {
   "cell_type": "markdown",
   "metadata": {},
   "source": [
    "In this section, I placed those verbs that had more than two or 3 forms, such as the verb “To be” or “To do”."
   ]
  },
  {
   "cell_type": "markdown",
   "metadata": {},
   "source": [
    "* Verb : To Be [ Am - Is - Are ]"
   ]
  },
  {
   "cell_type": "code",
   "execution_count": null,
   "metadata": {},
   "outputs": [],
   "source": [
    "v_be_uk = json_IR_present[1][\"BE\"][0][\"BE\"][\"UK\"]\n",
    "v_am_uk = json_IR_present[1][\"BE\"][1][\"AM\"][\"UK\"]\n",
    "v_is_uk = json_IR_present[1][\"BE\"][2][\"IS\"][\"UK\"]\n",
    "v_are_uk = json_IR_present[1][\"BE\"][3][\"ARE\"][\"UK\"]\n",
    "\n",
    "v_be_us = json_IR_present[1][\"BE\"][0][\"BE\"][\"US\"]\n",
    "v_am_us = json_IR_present[1][\"BE\"][1][\"AM\"][\"US\"]\n",
    "v_is_us = json_IR_present[1][\"BE\"][2][\"IS\"][\"US\"]\n",
    "v_are_us = json_IR_present[1][\"BE\"][3][\"ARE\"][\"US\"]\n",
    "\n",
    "be_uk = [v_be_uk,v_am_uk,v_is_uk,v_are_uk]\n",
    "be_us = [v_be_us,v_am_us,v_is_us,v_are_us]\n",
    "\n",
    "ir_present_uk.insert(1,be_uk)\n",
    "ir_present_us.insert(1,be_us)"
   ]
  },
  {
   "cell_type": "markdown",
   "metadata": {},
   "source": [
    "* Verb : To be [ Was - Were ]"
   ]
  },
  {
   "cell_type": "code",
   "execution_count": null,
   "metadata": {},
   "outputs": [],
   "source": [
    "v_was_uk = json_IR_past[1][\"BE\"][0][\"WAS\"][\"UK\"]\n",
    "v_were_uk = json_IR_past[1][\"BE\"][1][\"WERE\"][\"UK\"]\n",
    "\n",
    "v_was_us = json_IR_past[1][\"BE\"][0][\"WAS\"][\"US\"]\n",
    "v_were_us = json_IR_past[1][\"BE\"][1][\"WERE\"][\"US\"]\n",
    "\n",
    "bep_uk = [v_was_uk, v_were_uk]\n",
    "bep_us = [v_was_us, v_were_us]\n",
    "\n",
    "ir_past_uk.insert(1,bep_uk)\n",
    "ir_past_us.insert(1,bep_us)"
   ]
  },
  {
   "cell_type": "markdown",
   "metadata": {},
   "source": [
    "* Verb : To Do [Do - Does]"
   ]
  },
  {
   "cell_type": "code",
   "execution_count": null,
   "metadata": {},
   "outputs": [],
   "source": [
    "v_do_uk = json_IR_present[22][\"DO\"][0][\"DO\"][\"UK\"][0]\n",
    "v_do_us = json_IR_present[22][\"DO\"][0][\"DO\"][\"US\"][1]\n",
    "\n",
    "v_does_uk = json_IR_present[22][\"DO\"][1][\"DOES\"][\"UK\"][0]\n",
    "v_does_us = json_IR_present[22][\"DO\"][1][\"DOES\"][\"US\"][0]\n",
    "\n",
    "do_uk = [v_do_uk, v_does_uk]\n",
    "do_us = [v_do_uk, v_does_us]\n",
    "\n",
    "\n",
    "ir_present_uk.insert(22,do_uk)\n",
    "ir_present_us.insert(22,do_us)"
   ]
  },
  {
   "cell_type": "markdown",
   "metadata": {},
   "source": [
    "* Verb : To go [ Go - Goes ]"
   ]
  },
  {
   "cell_type": "code",
   "execution_count": null,
   "metadata": {},
   "outputs": [],
   "source": [
    "v_go_uk = json_IR_present[39][\"GO\"][0][\"GO\"][\"UK\"]\n",
    "v_goes_uk = json_IR_present[39][\"GO\"][1][\"GOES\"][\"UK\"]\n",
    "\n",
    "v_go_us = json_IR_present[39][\"GO\"][0][\"GO\"][\"US\"]\n",
    "v_goes_us = json_IR_present[39][\"GO\"][1][\"GOES\"][\"US\"]\n",
    "\n",
    "go_uk = [v_go_uk,v_goes_uk]\n",
    "go_us = [v_go_us,v_goes_us]\n",
    "\n",
    "ir_present_uk.insert(39,go_uk)\n",
    "ir_present_us.insert(39,go_us)"
   ]
  },
  {
   "cell_type": "markdown",
   "metadata": {},
   "source": [
    "* Verb : To have [ Have - Has ]"
   ]
  },
  {
   "cell_type": "code",
   "execution_count": null,
   "metadata": {},
   "outputs": [],
   "source": [
    "v_have_uk = json_IR_present[41][\"HAVE\"][0][\"HAVE\"][\"UK\"]\n",
    "v_have_us = json_IR_present[41][\"HAVE\"][0][\"HAVE\"][\"US\"]\n",
    "\n",
    "v_has_uk = json_IR_present[41][\"HAVE\"][1][\"HAS \"][\"UK\"]\n",
    "v_has_us = json_IR_present[41][\"HAVE\"][1][\"HAS \"][\"US\"]\n",
    "\n",
    "have_uk = [v_have_uk,v_has_uk]\n",
    "have_us = [v_have_us,v_has_us]\n",
    "\n",
    "ir_present_uk.insert(41,have_uk)\n",
    "ir_present_us.insert(41,have_us)"
   ]
  },
  {
   "cell_type": "markdown",
   "metadata": {},
   "source": [
    "## Inserting Data Into Excel"
   ]
  },
  {
   "cell_type": "markdown",
   "metadata": {},
   "source": [
    "* Regular Verbs"
   ]
  },
  {
   "cell_type": "code",
   "execution_count": null,
   "metadata": {},
   "outputs": [],
   "source": [
    "df = pd.DataFrame({\n",
    "    \"IPA_present_uk\": rv_present_uk,\n",
    "    \"IPA_present_us\": rv_present_us,\n",
    "    \"IPA_past_uk\": rv_past_uk,\n",
    "    \"IPA_past_us\": rv_past_us,\n",
    "    \"IPA_past_participle_uk\": rv_past_participle_uk,\n",
    "    \"IPA_past_participle_uk_us\": rv_past_participle_us,\n",
    "    \"IPA_present_participle_uk\": rv_present_participle_uk,\n",
    "    \"IPA_present_participle_us\": rv_present_participle_us,\n",
    "})\n",
    "df.to_excel(\"regular.xlsx\", engine='openpyxl',index=False, sheet_name='IPA_regular_verbs')"
   ]
  },
  {
   "cell_type": "markdown",
   "metadata": {},
   "source": [
    "* Irregular Verbs"
   ]
  },
  {
   "cell_type": "code",
   "execution_count": null,
   "metadata": {},
   "outputs": [],
   "source": [
    "df = pd.DataFrame({\n",
    "    \"IPA_present_uk\": ir_present_uk,\n",
    "    \"IPA_present_us\": ir_present_us,\n",
    "    \"IPA_past_uk\": ir_past_uk,\n",
    "    \"IPA_past_us\": ir_past_us,\n",
    "    \"IPA_past_participle_uk\": ir_past_participle_uk,\n",
    "    \"IPA_past_participle_uk_us\": ir_past_participle_us,\n",
    "    \"IPA_present_participle_uk\": ir_present_participle_uk,\n",
    "    \"IPA_present_participle_us\": ir_present_participle_us,\n",
    "})\n",
    "df.to_excel(\"irregular.xlsx\", engine='openpyxl',index=False, sheet_name='IPA_irregular_verbs')"
   ]
  }
 ],
 "metadata": {
  "kernelspec": {
   "display_name": "verbsenv",
   "language": "python",
   "name": "python3"
  },
  "language_info": {
   "codemirror_mode": {
    "name": "ipython",
    "version": 3
   },
   "file_extension": ".py",
   "mimetype": "text/x-python",
   "name": "python",
   "nbconvert_exporter": "python",
   "pygments_lexer": "ipython3",
   "version": "3.12.5"
  }
 },
 "nbformat": 4,
 "nbformat_minor": 2
}
