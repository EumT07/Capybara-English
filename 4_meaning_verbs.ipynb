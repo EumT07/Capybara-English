{
 "cells": [
  {
   "cell_type": "code",
   "execution_count": 2,
   "metadata": {},
   "outputs": [],
   "source": [
    "import pandas as pd\n",
    "import json"
   ]
  },
  {
   "cell_type": "markdown",
   "metadata": {},
   "source": [
    "### Getting Infinitive Verbs"
   ]
  },
  {
   "cell_type": "code",
   "execution_count": null,
   "metadata": {},
   "outputs": [],
   "source": [
    "df = pd.read_excel(\"./Verbos.xlsx\", sheet_name=0)\n",
    "infinitiveVerbs = list(df[\"infinitive\"])\n",
    "infinitiveVerbs"
   ]
  },
  {
   "cell_type": "markdown",
   "metadata": {},
   "source": [
    "### Getting info from JSON"
   ]
  },
  {
   "cell_type": "markdown",
   "metadata": {},
   "source": [
    "* Regular Meaning"
   ]
  },
  {
   "cell_type": "code",
   "execution_count": 16,
   "metadata": {},
   "outputs": [],
   "source": [
    "regular_meaning = None\n",
    "\n",
    "# JSON root\n",
    "root = \"./verb-json/regular/regular_meaning.json\"\n",
    "with open(root, 'r', encoding='utf-8') as file:\n",
    "    regular_meaning = json.load(file)\n"
   ]
  },
  {
   "cell_type": "markdown",
   "metadata": {},
   "source": [
    "* Irregular Meaning"
   ]
  },
  {
   "cell_type": "code",
   "execution_count": 17,
   "metadata": {},
   "outputs": [],
   "source": [
    "irregular_meaning = None\n",
    "\n",
    "# JSON root\n",
    "root = \"./verb-json/irregular/irregular_meaning.json\"\n",
    "with open(root, 'r', encoding='utf-8') as file:\n",
    "    irregular_meaning = json.load(file)"
   ]
  },
  {
   "cell_type": "markdown",
   "metadata": {},
   "source": [
    "* length"
   ]
  },
  {
   "cell_type": "code",
   "execution_count": null,
   "metadata": {},
   "outputs": [],
   "source": [
    "# Languages\n",
    "spanish_list = []\n",
    "portuguese_list = []\n",
    "french_list = []\n",
    "italian_list = []\n",
    "german_list = []\n",
    "\n",
    "completely_list = regular_meaning + irregular_meaning\n",
    "\n",
    "print(f\"\"\"\n",
    "Infinitive verbs\n",
    "Length: {len(infinitiveVerbs)}\n",
    "Verbs Meaning\n",
    "Regular Length: {len(regular_meaning)}\n",
    "Iregular Length: {len(irregular_meaning)}\n",
    "Both Length: {len(completely_list)}\n",
    "\"\"\")"
   ]
  },
  {
   "cell_type": "code",
   "execution_count": 51,
   "metadata": {},
   "outputs": [],
   "source": [
    "def createMeaningList(languge, languageList, infinitiveVerbs, meaningVerbs):\n",
    "    for i,verbs in enumerate(meaningVerbs):\n",
    "        languageList.append(verbs[infinitiveVerbs[i].strip()][languge])"
   ]
  },
  {
   "cell_type": "markdown",
   "metadata": {},
   "source": [
    "* Creating List"
   ]
  },
  {
   "cell_type": "code",
   "execution_count": 52,
   "metadata": {},
   "outputs": [],
   "source": [
    "createMeaningList(\"spanish\",spanish_list,infinitiveVerbs,completely_list)\n",
    "createMeaningList(\"portuguese\",portuguese_list,infinitiveVerbs,completely_list)\n",
    "createMeaningList(\"french\",french_list,infinitiveVerbs,completely_list)\n",
    "createMeaningList(\"italian\",italian_list,infinitiveVerbs,completely_list)\n",
    "createMeaningList(\"german\",german_list,infinitiveVerbs,completely_list)"
   ]
  },
  {
   "cell_type": "code",
   "execution_count": 53,
   "metadata": {},
   "outputs": [
    {
     "name": "stdout",
     "output_type": "stream",
     "text": [
      "\n",
      "Spanish: 369\n",
      "Portuguese: 369\n",
      "Italian: 369\n",
      "French: 369\n",
      "German: 369\n",
      "\n"
     ]
    }
   ],
   "source": [
    "print(f\"\"\"\n",
    "Spanish: {len(spanish_list)}\n",
    "Portuguese: {len(portuguese_list)}\n",
    "Italian: {len(italian_list)}\n",
    "French: {len(french_list)}\n",
    "German: {len(german_list)}\n",
    "\"\"\")"
   ]
  },
  {
   "cell_type": "markdown",
   "metadata": {},
   "source": [
    "## Create Excel files "
   ]
  },
  {
   "cell_type": "markdown",
   "metadata": {},
   "source": [
    "* Meaning of regular and irregular verbs"
   ]
  },
  {
   "cell_type": "code",
   "execution_count": 54,
   "metadata": {},
   "outputs": [],
   "source": [
    "df = pd.DataFrame({\n",
    "    \"spanish\": spanish_list,\n",
    "    \"portuguese\": portuguese_list,\n",
    "    \"french\": french_list,\n",
    "    \"italian\": italian_list,\n",
    "    \"german\": german_list\n",
    "})\n",
    "\n",
    "df.to_excel(\"regularmeaning.xlsx\", engine=\"openpyxl\",index=False,sheet_name=\"regular_meaning\")"
   ]
  },
  {
   "cell_type": "markdown",
   "metadata": {},
   "source": [
    "### Creating JSON DB"
   ]
  },
  {
   "cell_type": "code",
   "execution_count": null,
   "metadata": {},
   "outputs": [],
   "source": [
    "df = pd.read_excel(\"./Verbos.xlsx\", sheet_name=5)\n",
    "df.head(3)"
   ]
  },
  {
   "cell_type": "markdown",
   "metadata": {},
   "source": [
    "* Creating model"
   ]
  },
  {
   "cell_type": "code",
   "execution_count": 8,
   "metadata": {},
   "outputs": [],
   "source": [
    "id = list(df[\"id\"])\n",
    "verb_id = list(df[\"verb_id\"])\n",
    "spanish = list(df[\"spanish\"])\n",
    "portuguese = list(df[\"portuguese\"])\n",
    "italian = list(df[\"italian\"])\n",
    "french = list(df[\"french\"])\n",
    "german = list(df[\"german\"])\n",
    "\n",
    "\n",
    "meaning = []\n",
    "\n",
    "for i in range(0,369):\n",
    "    meaning.append({\n",
    "        \"id\": id[i].strip(),\n",
    "        \"verb_id\": verb_id[i].strip(),\n",
    "        \"spanish\": spanish[i].strip(),\n",
    "        \"portuguese\":portuguese[i].strip(),\n",
    "        \"italian\": italian[i].strip(),\n",
    "        \"french\": french[i].strip(),\n",
    "        \"german\": german[i].strip()\n",
    "    })"
   ]
  }
 ],
 "metadata": {
  "kernelspec": {
   "display_name": "verbsenv",
   "language": "python",
   "name": "python3"
  },
  "language_info": {
   "codemirror_mode": {
    "name": "ipython",
    "version": 3
   },
   "file_extension": ".py",
   "mimetype": "text/x-python",
   "name": "python",
   "nbconvert_exporter": "python",
   "pygments_lexer": "ipython3",
   "version": "3.12.5"
  }
 },
 "nbformat": 4,
 "nbformat_minor": 2
}
